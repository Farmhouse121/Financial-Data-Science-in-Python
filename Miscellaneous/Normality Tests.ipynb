{
  "nbformat": 4,
  "nbformat_minor": 0,
  "metadata": {
    "colab": {
      "provenance": [],
      "authorship_tag": "ABX9TyOL2bPfOVWXM5YM/hffgnTm",
      "include_colab_link": true
    },
    "kernelspec": {
      "name": "python3",
      "display_name": "Python 3"
    },
    "language_info": {
      "name": "python"
    },
    "widgets": {
      "application/vnd.jupyter.widget-state+json": {
        "4089d82792444a98b5eed4967189a7f6": {
          "model_module": "@jupyter-widgets/controls",
          "model_name": "HBoxModel",
          "model_module_version": "1.5.0",
          "state": {
            "_dom_classes": [],
            "_model_module": "@jupyter-widgets/controls",
            "_model_module_version": "1.5.0",
            "_model_name": "HBoxModel",
            "_view_count": null,
            "_view_module": "@jupyter-widgets/controls",
            "_view_module_version": "1.5.0",
            "_view_name": "HBoxView",
            "box_style": "",
            "children": [
              "IPY_MODEL_473988a14a23465b861b867ac14701dc",
              "IPY_MODEL_e58038963da84ae393ab4d33f86043e6",
              "IPY_MODEL_5be7c04bfec04e20ae4f94d1dbf8e433"
            ],
            "layout": "IPY_MODEL_7969865311a24d23a7d7260ecd7d9e93"
          }
        },
        "473988a14a23465b861b867ac14701dc": {
          "model_module": "@jupyter-widgets/controls",
          "model_name": "HTMLModel",
          "model_module_version": "1.5.0",
          "state": {
            "_dom_classes": [],
            "_model_module": "@jupyter-widgets/controls",
            "_model_module_version": "1.5.0",
            "_model_name": "HTMLModel",
            "_view_count": null,
            "_view_module": "@jupyter-widgets/controls",
            "_view_module_version": "1.5.0",
            "_view_name": "HTMLView",
            "description": "",
            "description_tooltip": null,
            "layout": "IPY_MODEL_cddf551e433a49ffa10c984162baec61",
            "placeholder": "​",
            "style": "IPY_MODEL_f31392097cc648279e610353c7bbcdb4",
            "value": "  0%"
          }
        },
        "e58038963da84ae393ab4d33f86043e6": {
          "model_module": "@jupyter-widgets/controls",
          "model_name": "FloatProgressModel",
          "model_module_version": "1.5.0",
          "state": {
            "_dom_classes": [],
            "_model_module": "@jupyter-widgets/controls",
            "_model_module_version": "1.5.0",
            "_model_name": "FloatProgressModel",
            "_view_count": null,
            "_view_module": "@jupyter-widgets/controls",
            "_view_module_version": "1.5.0",
            "_view_name": "ProgressView",
            "bar_style": "",
            "description": "",
            "description_tooltip": null,
            "layout": "IPY_MODEL_feee225836434dbdb41310bed90bb764",
            "max": 34685,
            "min": 0,
            "orientation": "horizontal",
            "style": "IPY_MODEL_15c6b866b8b047f9b2fa9a600c277467",
            "value": 153
          }
        },
        "5be7c04bfec04e20ae4f94d1dbf8e433": {
          "model_module": "@jupyter-widgets/controls",
          "model_name": "HTMLModel",
          "model_module_version": "1.5.0",
          "state": {
            "_dom_classes": [],
            "_model_module": "@jupyter-widgets/controls",
            "_model_module_version": "1.5.0",
            "_model_name": "HTMLModel",
            "_view_count": null,
            "_view_module": "@jupyter-widgets/controls",
            "_view_module_version": "1.5.0",
            "_view_name": "HTMLView",
            "description": "",
            "description_tooltip": null,
            "layout": "IPY_MODEL_54573814001047f9b43d3c41e41bebb0",
            "placeholder": "​",
            "style": "IPY_MODEL_a0c368b2325c4b2bad7a4cb98e7f16e2",
            "value": " 153/34685 [00:40&lt;2:22:48,  4.03it/s]"
          }
        },
        "7969865311a24d23a7d7260ecd7d9e93": {
          "model_module": "@jupyter-widgets/base",
          "model_name": "LayoutModel",
          "model_module_version": "1.2.0",
          "state": {
            "_model_module": "@jupyter-widgets/base",
            "_model_module_version": "1.2.0",
            "_model_name": "LayoutModel",
            "_view_count": null,
            "_view_module": "@jupyter-widgets/base",
            "_view_module_version": "1.2.0",
            "_view_name": "LayoutView",
            "align_content": null,
            "align_items": null,
            "align_self": null,
            "border": null,
            "bottom": null,
            "display": null,
            "flex": null,
            "flex_flow": null,
            "grid_area": null,
            "grid_auto_columns": null,
            "grid_auto_flow": null,
            "grid_auto_rows": null,
            "grid_column": null,
            "grid_gap": null,
            "grid_row": null,
            "grid_template_areas": null,
            "grid_template_columns": null,
            "grid_template_rows": null,
            "height": null,
            "justify_content": null,
            "justify_items": null,
            "left": null,
            "margin": null,
            "max_height": null,
            "max_width": null,
            "min_height": null,
            "min_width": null,
            "object_fit": null,
            "object_position": null,
            "order": null,
            "overflow": null,
            "overflow_x": null,
            "overflow_y": null,
            "padding": null,
            "right": null,
            "top": null,
            "visibility": null,
            "width": null
          }
        },
        "cddf551e433a49ffa10c984162baec61": {
          "model_module": "@jupyter-widgets/base",
          "model_name": "LayoutModel",
          "model_module_version": "1.2.0",
          "state": {
            "_model_module": "@jupyter-widgets/base",
            "_model_module_version": "1.2.0",
            "_model_name": "LayoutModel",
            "_view_count": null,
            "_view_module": "@jupyter-widgets/base",
            "_view_module_version": "1.2.0",
            "_view_name": "LayoutView",
            "align_content": null,
            "align_items": null,
            "align_self": null,
            "border": null,
            "bottom": null,
            "display": null,
            "flex": null,
            "flex_flow": null,
            "grid_area": null,
            "grid_auto_columns": null,
            "grid_auto_flow": null,
            "grid_auto_rows": null,
            "grid_column": null,
            "grid_gap": null,
            "grid_row": null,
            "grid_template_areas": null,
            "grid_template_columns": null,
            "grid_template_rows": null,
            "height": null,
            "justify_content": null,
            "justify_items": null,
            "left": null,
            "margin": null,
            "max_height": null,
            "max_width": null,
            "min_height": null,
            "min_width": null,
            "object_fit": null,
            "object_position": null,
            "order": null,
            "overflow": null,
            "overflow_x": null,
            "overflow_y": null,
            "padding": null,
            "right": null,
            "top": null,
            "visibility": null,
            "width": null
          }
        },
        "f31392097cc648279e610353c7bbcdb4": {
          "model_module": "@jupyter-widgets/controls",
          "model_name": "DescriptionStyleModel",
          "model_module_version": "1.5.0",
          "state": {
            "_model_module": "@jupyter-widgets/controls",
            "_model_module_version": "1.5.0",
            "_model_name": "DescriptionStyleModel",
            "_view_count": null,
            "_view_module": "@jupyter-widgets/base",
            "_view_module_version": "1.2.0",
            "_view_name": "StyleView",
            "description_width": ""
          }
        },
        "feee225836434dbdb41310bed90bb764": {
          "model_module": "@jupyter-widgets/base",
          "model_name": "LayoutModel",
          "model_module_version": "1.2.0",
          "state": {
            "_model_module": "@jupyter-widgets/base",
            "_model_module_version": "1.2.0",
            "_model_name": "LayoutModel",
            "_view_count": null,
            "_view_module": "@jupyter-widgets/base",
            "_view_module_version": "1.2.0",
            "_view_name": "LayoutView",
            "align_content": null,
            "align_items": null,
            "align_self": null,
            "border": null,
            "bottom": null,
            "display": null,
            "flex": null,
            "flex_flow": null,
            "grid_area": null,
            "grid_auto_columns": null,
            "grid_auto_flow": null,
            "grid_auto_rows": null,
            "grid_column": null,
            "grid_gap": null,
            "grid_row": null,
            "grid_template_areas": null,
            "grid_template_columns": null,
            "grid_template_rows": null,
            "height": null,
            "justify_content": null,
            "justify_items": null,
            "left": null,
            "margin": null,
            "max_height": null,
            "max_width": null,
            "min_height": null,
            "min_width": null,
            "object_fit": null,
            "object_position": null,
            "order": null,
            "overflow": null,
            "overflow_x": null,
            "overflow_y": null,
            "padding": null,
            "right": null,
            "top": null,
            "visibility": null,
            "width": null
          }
        },
        "15c6b866b8b047f9b2fa9a600c277467": {
          "model_module": "@jupyter-widgets/controls",
          "model_name": "ProgressStyleModel",
          "model_module_version": "1.5.0",
          "state": {
            "_model_module": "@jupyter-widgets/controls",
            "_model_module_version": "1.5.0",
            "_model_name": "ProgressStyleModel",
            "_view_count": null,
            "_view_module": "@jupyter-widgets/base",
            "_view_module_version": "1.2.0",
            "_view_name": "StyleView",
            "bar_color": null,
            "description_width": ""
          }
        },
        "54573814001047f9b43d3c41e41bebb0": {
          "model_module": "@jupyter-widgets/base",
          "model_name": "LayoutModel",
          "model_module_version": "1.2.0",
          "state": {
            "_model_module": "@jupyter-widgets/base",
            "_model_module_version": "1.2.0",
            "_model_name": "LayoutModel",
            "_view_count": null,
            "_view_module": "@jupyter-widgets/base",
            "_view_module_version": "1.2.0",
            "_view_name": "LayoutView",
            "align_content": null,
            "align_items": null,
            "align_self": null,
            "border": null,
            "bottom": null,
            "display": null,
            "flex": null,
            "flex_flow": null,
            "grid_area": null,
            "grid_auto_columns": null,
            "grid_auto_flow": null,
            "grid_auto_rows": null,
            "grid_column": null,
            "grid_gap": null,
            "grid_row": null,
            "grid_template_areas": null,
            "grid_template_columns": null,
            "grid_template_rows": null,
            "height": null,
            "justify_content": null,
            "justify_items": null,
            "left": null,
            "margin": null,
            "max_height": null,
            "max_width": null,
            "min_height": null,
            "min_width": null,
            "object_fit": null,
            "object_position": null,
            "order": null,
            "overflow": null,
            "overflow_x": null,
            "overflow_y": null,
            "padding": null,
            "right": null,
            "top": null,
            "visibility": null,
            "width": null
          }
        },
        "a0c368b2325c4b2bad7a4cb98e7f16e2": {
          "model_module": "@jupyter-widgets/controls",
          "model_name": "DescriptionStyleModel",
          "model_module_version": "1.5.0",
          "state": {
            "_model_module": "@jupyter-widgets/controls",
            "_model_module_version": "1.5.0",
            "_model_name": "DescriptionStyleModel",
            "_view_count": null,
            "_view_module": "@jupyter-widgets/base",
            "_view_module_version": "1.2.0",
            "_view_name": "StyleView",
            "description_width": ""
          }
        }
      }
    }
  },
  "cells": [
    {
      "cell_type": "markdown",
      "metadata": {
        "id": "view-in-github",
        "colab_type": "text"
      },
      "source": [
        "<a href=\"https://colab.research.google.com/github/Farmhouse121/Financial-Data-Science-in-Python/blob/main/Miscellaneous/Normality%20Tests.ipynb\" target=\"_parent\"><img src=\"https://colab.research.google.com/assets/colab-badge.svg\" alt=\"Open In Colab\"/></a>"
      ]
    },
    {
      "cell_type": "code",
      "execution_count": null,
      "metadata": {
        "colab": {
          "base_uri": "https://localhost:8080/"
        },
        "id": "s34EvR0_ax-c",
        "outputId": "3f4dd826-2a75-456d-b65e-b0307f1efb7a"
      },
      "outputs": [
        {
          "output_type": "stream",
          "name": "stdout",
          "text": [
            "13:19:18 Starting...\n",
            "13:19:18 Installing yfinance into Google notebook...\n",
            "13:19:31 Installing arch into Google notebook...\n",
            "13:19:44 Initialized.\n"
          ]
        }
      ],
      "source": [
        "from my_library import *"
      ]
    },
    {
      "cell_type": "code",
      "source": [
        "from scipy.stats import norm,gennorm,normaltest as normal_test\n",
        "from itertools import product\n",
        "\n",
        "results=pd.DataFrame()\n",
        "results.index=pd.MultiIndex.from_tuples(list(product(list(range(10,1001,1)),list(np.arange(half,four,0.1)))))\n",
        "results.index.names=[\"Portfolio\",\"Beta\"]\n",
        "sample_size,rho=int(annualize),0.2 # year of daily returns in US markets, correlation between asset returns\n",
        "\n",
        "for n,beta in tqdm(results.index):\n",
        "    sample=pd.Series(np.array([gennorm(beta,zero,one).rvs(int(n/(one+(n-one)*rho))).mean() for _ in range(sample_size)])) # sample_size observations of mean of n rvs with given beta\n",
        "    results.loc[(n,beta),\"Mean\"]=sample.mean()\n",
        "    results.loc[(n,beta),\"St.Dev.\"]=sample.var()\n",
        "    results.loc[(n,beta),\"Skewness\"]=sample.skew()\n",
        "    results.loc[(n,beta),\"Kurtosis\"]=sample.kurt()+three\n",
        "    results.loc[(n,beta),\"Normal Test\"]=normal_test(sample)[1]\n",
        "\n",
        "for alpha in 0.05,0.01,0.001:\n",
        "    results[\"NT %g\" % (alpha*hundred)]=results[\"Normal Test\"]<alpha\n",
        "\n",
        "display(results)"
      ],
      "metadata": {
        "id": "6HqH-iEra29s",
        "colab": {
          "base_uri": "https://localhost:8080/",
          "height": 49,
          "referenced_widgets": [
            "4089d82792444a98b5eed4967189a7f6",
            "473988a14a23465b861b867ac14701dc",
            "e58038963da84ae393ab4d33f86043e6",
            "5be7c04bfec04e20ae4f94d1dbf8e433",
            "7969865311a24d23a7d7260ecd7d9e93",
            "cddf551e433a49ffa10c984162baec61",
            "f31392097cc648279e610353c7bbcdb4",
            "feee225836434dbdb41310bed90bb764",
            "15c6b866b8b047f9b2fa9a600c277467",
            "54573814001047f9b43d3c41e41bebb0",
            "a0c368b2325c4b2bad7a4cb98e7f16e2"
          ]
        },
        "outputId": "034c59e4-0eee-4527-90a8-a34ebf1f65e4"
      },
      "execution_count": null,
      "outputs": [
        {
          "output_type": "display_data",
          "data": {
            "text/plain": [
              "  0%|          | 0/34685 [00:00<?, ?it/s]"
            ],
            "application/vnd.jupyter.widget-view+json": {
              "version_major": 2,
              "version_minor": 0,
              "model_id": "4089d82792444a98b5eed4967189a7f6"
            }
          },
          "metadata": {}
        }
      ]
    },
    {
      "cell_type": "code",
      "source": [
        "from scipy.ndimage import gaussian_filter\n",
        "nprint(\"Displaying F.P.R. with Gaussian Filter sigma=%g.\" % (sigma:=zero))\n",
        "\n",
        "Z=(df:=results.reset_index()).pivot_table(index=\"Beta\",columns=\"Portfolio\",values=\"Normal Test\").values\n",
        "X,Y=np.meshgrid(np.sort(df[\"Portfolio\"].unique()),np.sort(df[\"Beta\"].unique()))\n",
        "\n",
        "figure,plot=pl.subplots(figsize=(ten*GoldenRatio,ten))\n",
        "mesh=plot.pcolormesh(X,Y,gaussian_filter(Z,sigma) if sigma else Z,cmap='spring')\n",
        "plot.set_xscale('log')\n",
        "plot.xaxis.set_major_formatter(CountLabels(0))\n",
        "plot.set_xlabel(\"Portfolio Size, $N$\",fontsize=12)\n",
        "plot.set_ylabel(\"Skewness Parameter, $\\\\beta$\",fontsize=12)\n",
        "figure.suptitle(title:=\"Normality of Portfolio Returns for %d Days with %.0f%% Correlation\\nwith Returns Drawn from the Generalized Normal Distribution\" % (sample_size,rho*hundred),fontsize=22)\n",
        "\n",
        "for y,t in (two,\"Normal\"),(one,\"Laplace\"):\n",
        "    plot.axhline(y,color=(c:='blue'),linestyle=':')\n",
        "    plot.text(X.min(),y+0.01,t,color=c,ha='left',va='bottom')\n",
        "\n",
        "for x,t in ((30,'High-School \"Large\" Sample'),):\n",
        "    plot.axvline(x,color=c,linestyle=':')\n",
        "    plot.text(x*0.94,y+0.01,t,color=c,ha='left',va='bottom',rotation=90)\n",
        "\n",
        "figure.colorbar(mesh,ax=plot,label='Normality Test $p$ Value')\n",
        "figure.savefig(title.split(\"\\n\")[0]+\".png\",dpi=300,bbox_inches='tight')"
      ],
      "metadata": {
        "id": "FniA_fHbfy14"
      },
      "execution_count": null,
      "outputs": []
    },
    {
      "cell_type": "code",
      "source": [],
      "metadata": {
        "id": "0Eobgx1IFiCJ"
      },
      "execution_count": null,
      "outputs": []
    },
    {
      "cell_type": "code",
      "source": [],
      "metadata": {
        "id": "x7Mzh3CGPbnx"
      },
      "execution_count": null,
      "outputs": []
    }
  ]
}