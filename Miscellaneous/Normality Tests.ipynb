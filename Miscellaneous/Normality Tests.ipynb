{
  "nbformat": 4,
  "nbformat_minor": 0,
  "metadata": {
    "colab": {
      "provenance": [],
      "mount_file_id": "https://github.com/Farmhouse121/Financial-Data-Science-in-Python/blob/main/Miscellaneous/Normality%20Tests.ipynb",
      "authorship_tag": "ABX9TyNkS5zCZu10ntfXNum3EOGZ",
      "include_colab_link": true
    },
    "kernelspec": {
      "name": "python3",
      "display_name": "Python 3"
    },
    "language_info": {
      "name": "python"
    },
    "widgets": {
      "application/vnd.jupyter.widget-state+json": {
        "38e9a1c96b2047c385a53bd42eb51f64": {
          "model_module": "@jupyter-widgets/controls",
          "model_name": "HBoxModel",
          "model_module_version": "1.5.0",
          "state": {
            "_dom_classes": [],
            "_model_module": "@jupyter-widgets/controls",
            "_model_module_version": "1.5.0",
            "_model_name": "HBoxModel",
            "_view_count": null,
            "_view_module": "@jupyter-widgets/controls",
            "_view_module_version": "1.5.0",
            "_view_name": "HBoxView",
            "box_style": "",
            "children": [
              "IPY_MODEL_6f3304dd5de64c869b08dab299404fae",
              "IPY_MODEL_4ca20c2a8a434ec0a2db50f71eb69ec4",
              "IPY_MODEL_3341c36cdc1f41ff8dd643980c78b715"
            ],
            "layout": "IPY_MODEL_2e983cc8559c4ac79e205accfd067614"
          }
        },
        "6f3304dd5de64c869b08dab299404fae": {
          "model_module": "@jupyter-widgets/controls",
          "model_name": "HTMLModel",
          "model_module_version": "1.5.0",
          "state": {
            "_dom_classes": [],
            "_model_module": "@jupyter-widgets/controls",
            "_model_module_version": "1.5.0",
            "_model_name": "HTMLModel",
            "_view_count": null,
            "_view_module": "@jupyter-widgets/controls",
            "_view_module_version": "1.5.0",
            "_view_name": "HTMLView",
            "description": "",
            "description_tooltip": null,
            "layout": "IPY_MODEL_e7523543ff0347399e51a2aeadbdeb9d",
            "placeholder": "​",
            "style": "IPY_MODEL_58c0ea09f99d4e71980985e89e7e0fa0",
            "value": " 15%"
          }
        },
        "4ca20c2a8a434ec0a2db50f71eb69ec4": {
          "model_module": "@jupyter-widgets/controls",
          "model_name": "FloatProgressModel",
          "model_module_version": "1.5.0",
          "state": {
            "_dom_classes": [],
            "_model_module": "@jupyter-widgets/controls",
            "_model_module_version": "1.5.0",
            "_model_name": "FloatProgressModel",
            "_view_count": null,
            "_view_module": "@jupyter-widgets/controls",
            "_view_module_version": "1.5.0",
            "_view_name": "ProgressView",
            "bar_style": "",
            "description": "",
            "description_tooltip": null,
            "layout": "IPY_MODEL_bb4a56dbe0394624b31f129ae9f350e5",
            "max": 34685,
            "min": 0,
            "orientation": "horizontal",
            "style": "IPY_MODEL_b49338acca424ac7a183ec7d9f75029a",
            "value": 5333
          }
        },
        "3341c36cdc1f41ff8dd643980c78b715": {
          "model_module": "@jupyter-widgets/controls",
          "model_name": "HTMLModel",
          "model_module_version": "1.5.0",
          "state": {
            "_dom_classes": [],
            "_model_module": "@jupyter-widgets/controls",
            "_model_module_version": "1.5.0",
            "_model_name": "HTMLModel",
            "_view_count": null,
            "_view_module": "@jupyter-widgets/controls",
            "_view_module_version": "1.5.0",
            "_view_name": "HTMLView",
            "description": "",
            "description_tooltip": null,
            "layout": "IPY_MODEL_0e583cc35da84396af5485197042dc14",
            "placeholder": "​",
            "style": "IPY_MODEL_fe3387a05d494d9fa05c2f361faf286b",
            "value": " 5333/34685 [22:58&lt;1:53:19,  4.32it/s]"
          }
        },
        "2e983cc8559c4ac79e205accfd067614": {
          "model_module": "@jupyter-widgets/base",
          "model_name": "LayoutModel",
          "model_module_version": "1.2.0",
          "state": {
            "_model_module": "@jupyter-widgets/base",
            "_model_module_version": "1.2.0",
            "_model_name": "LayoutModel",
            "_view_count": null,
            "_view_module": "@jupyter-widgets/base",
            "_view_module_version": "1.2.0",
            "_view_name": "LayoutView",
            "align_content": null,
            "align_items": null,
            "align_self": null,
            "border": null,
            "bottom": null,
            "display": null,
            "flex": null,
            "flex_flow": null,
            "grid_area": null,
            "grid_auto_columns": null,
            "grid_auto_flow": null,
            "grid_auto_rows": null,
            "grid_column": null,
            "grid_gap": null,
            "grid_row": null,
            "grid_template_areas": null,
            "grid_template_columns": null,
            "grid_template_rows": null,
            "height": null,
            "justify_content": null,
            "justify_items": null,
            "left": null,
            "margin": null,
            "max_height": null,
            "max_width": null,
            "min_height": null,
            "min_width": null,
            "object_fit": null,
            "object_position": null,
            "order": null,
            "overflow": null,
            "overflow_x": null,
            "overflow_y": null,
            "padding": null,
            "right": null,
            "top": null,
            "visibility": null,
            "width": null
          }
        },
        "e7523543ff0347399e51a2aeadbdeb9d": {
          "model_module": "@jupyter-widgets/base",
          "model_name": "LayoutModel",
          "model_module_version": "1.2.0",
          "state": {
            "_model_module": "@jupyter-widgets/base",
            "_model_module_version": "1.2.0",
            "_model_name": "LayoutModel",
            "_view_count": null,
            "_view_module": "@jupyter-widgets/base",
            "_view_module_version": "1.2.0",
            "_view_name": "LayoutView",
            "align_content": null,
            "align_items": null,
            "align_self": null,
            "border": null,
            "bottom": null,
            "display": null,
            "flex": null,
            "flex_flow": null,
            "grid_area": null,
            "grid_auto_columns": null,
            "grid_auto_flow": null,
            "grid_auto_rows": null,
            "grid_column": null,
            "grid_gap": null,
            "grid_row": null,
            "grid_template_areas": null,
            "grid_template_columns": null,
            "grid_template_rows": null,
            "height": null,
            "justify_content": null,
            "justify_items": null,
            "left": null,
            "margin": null,
            "max_height": null,
            "max_width": null,
            "min_height": null,
            "min_width": null,
            "object_fit": null,
            "object_position": null,
            "order": null,
            "overflow": null,
            "overflow_x": null,
            "overflow_y": null,
            "padding": null,
            "right": null,
            "top": null,
            "visibility": null,
            "width": null
          }
        },
        "58c0ea09f99d4e71980985e89e7e0fa0": {
          "model_module": "@jupyter-widgets/controls",
          "model_name": "DescriptionStyleModel",
          "model_module_version": "1.5.0",
          "state": {
            "_model_module": "@jupyter-widgets/controls",
            "_model_module_version": "1.5.0",
            "_model_name": "DescriptionStyleModel",
            "_view_count": null,
            "_view_module": "@jupyter-widgets/base",
            "_view_module_version": "1.2.0",
            "_view_name": "StyleView",
            "description_width": ""
          }
        },
        "bb4a56dbe0394624b31f129ae9f350e5": {
          "model_module": "@jupyter-widgets/base",
          "model_name": "LayoutModel",
          "model_module_version": "1.2.0",
          "state": {
            "_model_module": "@jupyter-widgets/base",
            "_model_module_version": "1.2.0",
            "_model_name": "LayoutModel",
            "_view_count": null,
            "_view_module": "@jupyter-widgets/base",
            "_view_module_version": "1.2.0",
            "_view_name": "LayoutView",
            "align_content": null,
            "align_items": null,
            "align_self": null,
            "border": null,
            "bottom": null,
            "display": null,
            "flex": null,
            "flex_flow": null,
            "grid_area": null,
            "grid_auto_columns": null,
            "grid_auto_flow": null,
            "grid_auto_rows": null,
            "grid_column": null,
            "grid_gap": null,
            "grid_row": null,
            "grid_template_areas": null,
            "grid_template_columns": null,
            "grid_template_rows": null,
            "height": null,
            "justify_content": null,
            "justify_items": null,
            "left": null,
            "margin": null,
            "max_height": null,
            "max_width": null,
            "min_height": null,
            "min_width": null,
            "object_fit": null,
            "object_position": null,
            "order": null,
            "overflow": null,
            "overflow_x": null,
            "overflow_y": null,
            "padding": null,
            "right": null,
            "top": null,
            "visibility": null,
            "width": null
          }
        },
        "b49338acca424ac7a183ec7d9f75029a": {
          "model_module": "@jupyter-widgets/controls",
          "model_name": "ProgressStyleModel",
          "model_module_version": "1.5.0",
          "state": {
            "_model_module": "@jupyter-widgets/controls",
            "_model_module_version": "1.5.0",
            "_model_name": "ProgressStyleModel",
            "_view_count": null,
            "_view_module": "@jupyter-widgets/base",
            "_view_module_version": "1.2.0",
            "_view_name": "StyleView",
            "bar_color": null,
            "description_width": ""
          }
        },
        "0e583cc35da84396af5485197042dc14": {
          "model_module": "@jupyter-widgets/base",
          "model_name": "LayoutModel",
          "model_module_version": "1.2.0",
          "state": {
            "_model_module": "@jupyter-widgets/base",
            "_model_module_version": "1.2.0",
            "_model_name": "LayoutModel",
            "_view_count": null,
            "_view_module": "@jupyter-widgets/base",
            "_view_module_version": "1.2.0",
            "_view_name": "LayoutView",
            "align_content": null,
            "align_items": null,
            "align_self": null,
            "border": null,
            "bottom": null,
            "display": null,
            "flex": null,
            "flex_flow": null,
            "grid_area": null,
            "grid_auto_columns": null,
            "grid_auto_flow": null,
            "grid_auto_rows": null,
            "grid_column": null,
            "grid_gap": null,
            "grid_row": null,
            "grid_template_areas": null,
            "grid_template_columns": null,
            "grid_template_rows": null,
            "height": null,
            "justify_content": null,
            "justify_items": null,
            "left": null,
            "margin": null,
            "max_height": null,
            "max_width": null,
            "min_height": null,
            "min_width": null,
            "object_fit": null,
            "object_position": null,
            "order": null,
            "overflow": null,
            "overflow_x": null,
            "overflow_y": null,
            "padding": null,
            "right": null,
            "top": null,
            "visibility": null,
            "width": null
          }
        },
        "fe3387a05d494d9fa05c2f361faf286b": {
          "model_module": "@jupyter-widgets/controls",
          "model_name": "DescriptionStyleModel",
          "model_module_version": "1.5.0",
          "state": {
            "_model_module": "@jupyter-widgets/controls",
            "_model_module_version": "1.5.0",
            "_model_name": "DescriptionStyleModel",
            "_view_count": null,
            "_view_module": "@jupyter-widgets/base",
            "_view_module_version": "1.2.0",
            "_view_name": "StyleView",
            "description_width": ""
          }
        }
      }
    }
  },
  "cells": [
    {
      "cell_type": "markdown",
      "metadata": {
        "id": "view-in-github",
        "colab_type": "text"
      },
      "source": [
        "<a href=\"https://colab.research.google.com/github/Farmhouse121/Financial-Data-Science-in-Python/blob/main/Miscellaneous/Normality%20Tests.ipynb\" target=\"_parent\"><img src=\"https://colab.research.google.com/assets/colab-badge.svg\" alt=\"Open In Colab\"/></a>"
      ]
    },
    {
      "cell_type": "code",
      "execution_count": 1,
      "metadata": {
        "colab": {
          "base_uri": "https://localhost:8080/"
        },
        "id": "s34EvR0_ax-c",
        "outputId": "fe89ecf1-23b4-43ad-c78e-8cda55d89058"
      },
      "outputs": [
        {
          "output_type": "stream",
          "name": "stdout",
          "text": [
            "20:05:46 Starting...\n",
            "20:05:46 Installing yfinance into Google notebook...\n",
            "20:05:50 Installing arch into Google notebook...\n",
            "20:06:01 Initialized.\n"
          ]
        }
      ],
      "source": [
        "from my_library import *"
      ]
    },
    {
      "cell_type": "code",
      "source": [
        "from scipy.stats import norm,gennorm,normaltest as normal_test\n",
        "from itertools import product\n",
        "\n",
        "results=pd.DataFrame()\n",
        "results.index=pd.MultiIndex.from_tuples(list(product(list(range(10,1001,1)),list(np.arange(half,four,0.1)))))\n",
        "results.index.names=[\"Portfolio\",\"Beta\"]\n",
        "sample_size,rho=int(annualize),0.20 # year of daily returns in US markets, correlation between asset returns\n",
        "\n",
        "for n,beta in tqdm(results.index):\n",
        "    sample=pd.Series(np.array([gennorm(beta,zero,one).rvs(int(n/(one+(n-one)*rho))).mean() for _ in range(sample_size)])) # sample_size observations of mean of n rvs with given beta\n",
        "    results.loc[(n,beta),\"Mean\"]=sample.mean()\n",
        "    results.loc[(n,beta),\"St.Dev.\"]=sample.var()\n",
        "    results.loc[(n,beta),\"Skewness\"]=sample.skew()\n",
        "    results.loc[(n,beta),\"Kurtosis\"]=sample.kurt()+three\n",
        "    results.loc[(n,beta),\"Normal Test\"]=normal_test(sample)[1]\n",
        "\n",
        "for alpha in 0.05,0.01,0.001:\n",
        "    results[\"NT %g\" % (alpha*hundred)]=results[\"Normal Test\"]<alpha\n",
        "\n",
        "display(results)"
      ],
      "metadata": {
        "id": "6HqH-iEra29s",
        "colab": {
          "base_uri": "https://localhost:8080/",
          "height": 49,
          "referenced_widgets": [
            "38e9a1c96b2047c385a53bd42eb51f64",
            "6f3304dd5de64c869b08dab299404fae",
            "4ca20c2a8a434ec0a2db50f71eb69ec4",
            "3341c36cdc1f41ff8dd643980c78b715",
            "2e983cc8559c4ac79e205accfd067614",
            "e7523543ff0347399e51a2aeadbdeb9d",
            "58c0ea09f99d4e71980985e89e7e0fa0",
            "bb4a56dbe0394624b31f129ae9f350e5",
            "b49338acca424ac7a183ec7d9f75029a",
            "0e583cc35da84396af5485197042dc14",
            "fe3387a05d494d9fa05c2f361faf286b"
          ]
        },
        "outputId": "04fee2bf-ada5-4a8d-cbf9-a92d6343df7c"
      },
      "execution_count": null,
      "outputs": [
        {
          "output_type": "display_data",
          "data": {
            "text/plain": [
              "  0%|          | 0/34685 [00:00<?, ?it/s]"
            ],
            "application/vnd.jupyter.widget-view+json": {
              "version_major": 2,
              "version_minor": 0,
              "model_id": "38e9a1c96b2047c385a53bd42eb51f64"
            }
          },
          "metadata": {}
        }
      ]
    },
    {
      "cell_type": "code",
      "source": [
        "from scipy.ndimage import gaussian_filter\n",
        "nprint(\"Displaying F.P.R. with Gaussian Filter sigma=%g.\" % (sigma:=zero))\n",
        "\n",
        "Z=(df:=results.reset_index()).pivot_table(index=\"Beta\",columns=\"Portfolio\",values=\"Normal Test\").values\n",
        "X,Y=np.meshgrid(np.sort(df[\"Portfolio\"].unique()),np.sort(df[\"Beta\"].unique()))\n",
        "\n",
        "figure,plot=pl.subplots(figsize=(ten*GoldenRatio,ten))\n",
        "mesh=plot.pcolormesh(X,Y,gaussian_filter(Z,sigma) if sigma else Z,cmap='spring')\n",
        "plot.set_xscale('log')\n",
        "plot.xaxis.set_major_formatter(CountLabels(0))\n",
        "plot.set_xlabel(\"Portfolio Size, $N$\",fontsize=12)\n",
        "plot.set_ylabel(\"Skewness Parameter, $\\\\beta$\",fontsize=12)\n",
        "figure.suptitle(title:=\"Normality of Portfolio Returns for %d Days with %.0f%% Correlation\\nwith Returns Drawn from the Generalized Normal Distribution\" % (sample_size,rho*hundred),fontsize=22)\n",
        "\n",
        "for y,t in (two,\"Normal\"),(one,\"Laplace\"):\n",
        "    plot.axhline(y,color=(c:='blue'),linestyle=':')\n",
        "    plot.text(X.min(),y+0.01,t,color=c,ha='left',va='bottom')\n",
        "\n",
        "for x,t in ((30,'High-School \"Large\" Sample'),):\n",
        "    plot.axvline(x,color=c,linestyle=':')\n",
        "    plot.text(x*0.94,y+0.01,t,color=c,ha='left',va='bottom',rotation=90)\n",
        "\n",
        "figure.colorbar(mesh,ax=plot,label='Normality Test $p$ Value')\n",
        "figure.savefig(filename:=\"/content/drive/MyDrive/\"+title.split(\"\\n\")[0]+\".png\",dpi=300,bbox_inches='tight')\n",
        "nprint(\"Saved plot to persistent storage at: %s.\" % filename)"
      ],
      "metadata": {
        "id": "FniA_fHbfy14"
      },
      "execution_count": null,
      "outputs": []
    }
  ]
}