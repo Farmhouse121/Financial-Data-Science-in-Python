{
  "nbformat": 4,
  "nbformat_minor": 0,
  "metadata": {
    "colab": {
      "provenance": [],
      "mount_file_id": "https://github.com/Farmhouse121/Financial-Data-Science-in-Python/blob/main/Miscellaneous/Normality%20Tests.ipynb",
      "authorship_tag": "ABX9TyM4XqKdPnuYlQPvCPJYao36",
      "include_colab_link": true
    },
    "kernelspec": {
      "name": "python3",
      "display_name": "Python 3"
    },
    "language_info": {
      "name": "python"
    },
    "widgets": {
      "application/vnd.jupyter.widget-state+json": {
        "b5353c4794934098b3011fb57188542f": {
          "model_module": "@jupyter-widgets/controls",
          "model_name": "HBoxModel",
          "model_module_version": "1.5.0",
          "state": {
            "_dom_classes": [],
            "_model_module": "@jupyter-widgets/controls",
            "_model_module_version": "1.5.0",
            "_model_name": "HBoxModel",
            "_view_count": null,
            "_view_module": "@jupyter-widgets/controls",
            "_view_module_version": "1.5.0",
            "_view_name": "HBoxView",
            "box_style": "",
            "children": [
              "IPY_MODEL_80f28201849940bc8af8e53ae058616b",
              "IPY_MODEL_f94ffdcd58de4ee69687de4a44c26a6a",
              "IPY_MODEL_5cb23d2d00334d14812ca7423f5be2fc"
            ],
            "layout": "IPY_MODEL_fb479b85af814792a619b8abc9cd83ea"
          }
        },
        "80f28201849940bc8af8e53ae058616b": {
          "model_module": "@jupyter-widgets/controls",
          "model_name": "HTMLModel",
          "model_module_version": "1.5.0",
          "state": {
            "_dom_classes": [],
            "_model_module": "@jupyter-widgets/controls",
            "_model_module_version": "1.5.0",
            "_model_name": "HTMLModel",
            "_view_count": null,
            "_view_module": "@jupyter-widgets/controls",
            "_view_module_version": "1.5.0",
            "_view_name": "HTMLView",
            "description": "",
            "description_tooltip": null,
            "layout": "IPY_MODEL_5631c8e267bb4fcb89f06fa139b6b5c0",
            "placeholder": "​",
            "style": "IPY_MODEL_661c24ce739945d4a6bb5aa523c9502d",
            "value": " 29%"
          }
        },
        "f94ffdcd58de4ee69687de4a44c26a6a": {
          "model_module": "@jupyter-widgets/controls",
          "model_name": "FloatProgressModel",
          "model_module_version": "1.5.0",
          "state": {
            "_dom_classes": [],
            "_model_module": "@jupyter-widgets/controls",
            "_model_module_version": "1.5.0",
            "_model_name": "FloatProgressModel",
            "_view_count": null,
            "_view_module": "@jupyter-widgets/controls",
            "_view_module_version": "1.5.0",
            "_view_name": "ProgressView",
            "bar_style": "",
            "description": "",
            "description_tooltip": null,
            "layout": "IPY_MODEL_bdfd8c58aa7d4e1081cbbb85ec6f7783",
            "max": 34685,
            "min": 0,
            "orientation": "horizontal",
            "style": "IPY_MODEL_8f62b7fe2d6d4b9a82b86101ef4c4055",
            "value": 10025
          }
        },
        "5cb23d2d00334d14812ca7423f5be2fc": {
          "model_module": "@jupyter-widgets/controls",
          "model_name": "HTMLModel",
          "model_module_version": "1.5.0",
          "state": {
            "_dom_classes": [],
            "_model_module": "@jupyter-widgets/controls",
            "_model_module_version": "1.5.0",
            "_model_name": "HTMLModel",
            "_view_count": null,
            "_view_module": "@jupyter-widgets/controls",
            "_view_module_version": "1.5.0",
            "_view_name": "HTMLView",
            "description": "",
            "description_tooltip": null,
            "layout": "IPY_MODEL_8d07fbe8b36a47238f0d092fe939c5b2",
            "placeholder": "​",
            "style": "IPY_MODEL_9e78a8da0a404e1a85b256048c2c865e",
            "value": " 10025/34685 [44:35&lt;1:37:38,  4.21it/s]"
          }
        },
        "fb479b85af814792a619b8abc9cd83ea": {
          "model_module": "@jupyter-widgets/base",
          "model_name": "LayoutModel",
          "model_module_version": "1.2.0",
          "state": {
            "_model_module": "@jupyter-widgets/base",
            "_model_module_version": "1.2.0",
            "_model_name": "LayoutModel",
            "_view_count": null,
            "_view_module": "@jupyter-widgets/base",
            "_view_module_version": "1.2.0",
            "_view_name": "LayoutView",
            "align_content": null,
            "align_items": null,
            "align_self": null,
            "border": null,
            "bottom": null,
            "display": null,
            "flex": null,
            "flex_flow": null,
            "grid_area": null,
            "grid_auto_columns": null,
            "grid_auto_flow": null,
            "grid_auto_rows": null,
            "grid_column": null,
            "grid_gap": null,
            "grid_row": null,
            "grid_template_areas": null,
            "grid_template_columns": null,
            "grid_template_rows": null,
            "height": null,
            "justify_content": null,
            "justify_items": null,
            "left": null,
            "margin": null,
            "max_height": null,
            "max_width": null,
            "min_height": null,
            "min_width": null,
            "object_fit": null,
            "object_position": null,
            "order": null,
            "overflow": null,
            "overflow_x": null,
            "overflow_y": null,
            "padding": null,
            "right": null,
            "top": null,
            "visibility": null,
            "width": null
          }
        },
        "5631c8e267bb4fcb89f06fa139b6b5c0": {
          "model_module": "@jupyter-widgets/base",
          "model_name": "LayoutModel",
          "model_module_version": "1.2.0",
          "state": {
            "_model_module": "@jupyter-widgets/base",
            "_model_module_version": "1.2.0",
            "_model_name": "LayoutModel",
            "_view_count": null,
            "_view_module": "@jupyter-widgets/base",
            "_view_module_version": "1.2.0",
            "_view_name": "LayoutView",
            "align_content": null,
            "align_items": null,
            "align_self": null,
            "border": null,
            "bottom": null,
            "display": null,
            "flex": null,
            "flex_flow": null,
            "grid_area": null,
            "grid_auto_columns": null,
            "grid_auto_flow": null,
            "grid_auto_rows": null,
            "grid_column": null,
            "grid_gap": null,
            "grid_row": null,
            "grid_template_areas": null,
            "grid_template_columns": null,
            "grid_template_rows": null,
            "height": null,
            "justify_content": null,
            "justify_items": null,
            "left": null,
            "margin": null,
            "max_height": null,
            "max_width": null,
            "min_height": null,
            "min_width": null,
            "object_fit": null,
            "object_position": null,
            "order": null,
            "overflow": null,
            "overflow_x": null,
            "overflow_y": null,
            "padding": null,
            "right": null,
            "top": null,
            "visibility": null,
            "width": null
          }
        },
        "661c24ce739945d4a6bb5aa523c9502d": {
          "model_module": "@jupyter-widgets/controls",
          "model_name": "DescriptionStyleModel",
          "model_module_version": "1.5.0",
          "state": {
            "_model_module": "@jupyter-widgets/controls",
            "_model_module_version": "1.5.0",
            "_model_name": "DescriptionStyleModel",
            "_view_count": null,
            "_view_module": "@jupyter-widgets/base",
            "_view_module_version": "1.2.0",
            "_view_name": "StyleView",
            "description_width": ""
          }
        },
        "bdfd8c58aa7d4e1081cbbb85ec6f7783": {
          "model_module": "@jupyter-widgets/base",
          "model_name": "LayoutModel",
          "model_module_version": "1.2.0",
          "state": {
            "_model_module": "@jupyter-widgets/base",
            "_model_module_version": "1.2.0",
            "_model_name": "LayoutModel",
            "_view_count": null,
            "_view_module": "@jupyter-widgets/base",
            "_view_module_version": "1.2.0",
            "_view_name": "LayoutView",
            "align_content": null,
            "align_items": null,
            "align_self": null,
            "border": null,
            "bottom": null,
            "display": null,
            "flex": null,
            "flex_flow": null,
            "grid_area": null,
            "grid_auto_columns": null,
            "grid_auto_flow": null,
            "grid_auto_rows": null,
            "grid_column": null,
            "grid_gap": null,
            "grid_row": null,
            "grid_template_areas": null,
            "grid_template_columns": null,
            "grid_template_rows": null,
            "height": null,
            "justify_content": null,
            "justify_items": null,
            "left": null,
            "margin": null,
            "max_height": null,
            "max_width": null,
            "min_height": null,
            "min_width": null,
            "object_fit": null,
            "object_position": null,
            "order": null,
            "overflow": null,
            "overflow_x": null,
            "overflow_y": null,
            "padding": null,
            "right": null,
            "top": null,
            "visibility": null,
            "width": null
          }
        },
        "8f62b7fe2d6d4b9a82b86101ef4c4055": {
          "model_module": "@jupyter-widgets/controls",
          "model_name": "ProgressStyleModel",
          "model_module_version": "1.5.0",
          "state": {
            "_model_module": "@jupyter-widgets/controls",
            "_model_module_version": "1.5.0",
            "_model_name": "ProgressStyleModel",
            "_view_count": null,
            "_view_module": "@jupyter-widgets/base",
            "_view_module_version": "1.2.0",
            "_view_name": "StyleView",
            "bar_color": null,
            "description_width": ""
          }
        },
        "8d07fbe8b36a47238f0d092fe939c5b2": {
          "model_module": "@jupyter-widgets/base",
          "model_name": "LayoutModel",
          "model_module_version": "1.2.0",
          "state": {
            "_model_module": "@jupyter-widgets/base",
            "_model_module_version": "1.2.0",
            "_model_name": "LayoutModel",
            "_view_count": null,
            "_view_module": "@jupyter-widgets/base",
            "_view_module_version": "1.2.0",
            "_view_name": "LayoutView",
            "align_content": null,
            "align_items": null,
            "align_self": null,
            "border": null,
            "bottom": null,
            "display": null,
            "flex": null,
            "flex_flow": null,
            "grid_area": null,
            "grid_auto_columns": null,
            "grid_auto_flow": null,
            "grid_auto_rows": null,
            "grid_column": null,
            "grid_gap": null,
            "grid_row": null,
            "grid_template_areas": null,
            "grid_template_columns": null,
            "grid_template_rows": null,
            "height": null,
            "justify_content": null,
            "justify_items": null,
            "left": null,
            "margin": null,
            "max_height": null,
            "max_width": null,
            "min_height": null,
            "min_width": null,
            "object_fit": null,
            "object_position": null,
            "order": null,
            "overflow": null,
            "overflow_x": null,
            "overflow_y": null,
            "padding": null,
            "right": null,
            "top": null,
            "visibility": null,
            "width": null
          }
        },
        "9e78a8da0a404e1a85b256048c2c865e": {
          "model_module": "@jupyter-widgets/controls",
          "model_name": "DescriptionStyleModel",
          "model_module_version": "1.5.0",
          "state": {
            "_model_module": "@jupyter-widgets/controls",
            "_model_module_version": "1.5.0",
            "_model_name": "DescriptionStyleModel",
            "_view_count": null,
            "_view_module": "@jupyter-widgets/base",
            "_view_module_version": "1.2.0",
            "_view_name": "StyleView",
            "description_width": ""
          }
        }
      }
    }
  },
  "cells": [
    {
      "cell_type": "markdown",
      "metadata": {
        "id": "view-in-github",
        "colab_type": "text"
      },
      "source": [
        "<a href=\"https://colab.research.google.com/github/Farmhouse121/Financial-Data-Science-in-Python/blob/main/Miscellaneous/Normality%20Tests.ipynb\" target=\"_parent\"><img src=\"https://colab.research.google.com/assets/colab-badge.svg\" alt=\"Open In Colab\"/></a>"
      ]
    },
    {
      "cell_type": "code",
      "execution_count": 1,
      "metadata": {
        "colab": {
          "base_uri": "https://localhost:8080/"
        },
        "id": "s34EvR0_ax-c",
        "outputId": "7f1e9060-b8e6-40be-dd01-d330ea643bae"
      },
      "outputs": [
        {
          "output_type": "stream",
          "name": "stdout",
          "text": [
            "12:10:25 Starting...\n",
            "12:10:25 Installing yfinance into Google notebook...\n",
            "12:10:35 Installing arch into Google notebook...\n",
            "12:10:44 Initialized.\n"
          ]
        }
      ],
      "source": [
        "from my_library import *"
      ]
    },
    {
      "cell_type": "code",
      "source": [
        "from scipy.stats import norm,gennorm,normaltest as normal_test\n",
        "from itertools import product\n",
        "\n",
        "results=pd.DataFrame()\n",
        "results.index=pd.MultiIndex.from_tuples(list(product(list(range(10,1001,1)),list(np.arange(half,four,0.1)))))\n",
        "results.index.names=[\"Portfolio\",\"Beta\"]\n",
        "sample_size,rho=int(annualize),0.80 # year of daily returns in US markets, correlation between asset returns\n",
        "\n",
        "for n,beta in tqdm(results.index):\n",
        "    sample=pd.Series(np.array([gennorm(beta,zero,one).rvs(int(n/(one+(n-one)*rho))).mean() for _ in range(sample_size)])) # sample_size observations of mean of n rvs with given beta\n",
        "    results.loc[(n,beta),\"Mean\"]=sample.mean()\n",
        "    results.loc[(n,beta),\"St.Dev.\"]=sample.var()\n",
        "    results.loc[(n,beta),\"Skewness\"]=sample.skew()\n",
        "    results.loc[(n,beta),\"Kurtosis\"]=sample.kurt()+three\n",
        "    results.loc[(n,beta),\"Normal Test\"]=normal_test(sample)[1]\n",
        "\n",
        "for alpha in 0.05,0.01,0.001:\n",
        "    results[\"NT %g\" % (alpha*hundred)]=results[\"Normal Test\"]<alpha\n",
        "\n",
        "display(results)"
      ],
      "metadata": {
        "id": "6HqH-iEra29s",
        "colab": {
          "base_uri": "https://localhost:8080/",
          "height": 49,
          "referenced_widgets": [
            "b5353c4794934098b3011fb57188542f",
            "80f28201849940bc8af8e53ae058616b",
            "f94ffdcd58de4ee69687de4a44c26a6a",
            "5cb23d2d00334d14812ca7423f5be2fc",
            "fb479b85af814792a619b8abc9cd83ea",
            "5631c8e267bb4fcb89f06fa139b6b5c0",
            "661c24ce739945d4a6bb5aa523c9502d",
            "bdfd8c58aa7d4e1081cbbb85ec6f7783",
            "8f62b7fe2d6d4b9a82b86101ef4c4055",
            "8d07fbe8b36a47238f0d092fe939c5b2",
            "9e78a8da0a404e1a85b256048c2c865e"
          ]
        },
        "outputId": "d9cbc9bd-32da-466b-cbe0-c09fcd0b6cf2"
      },
      "execution_count": null,
      "outputs": [
        {
          "data": {
            "application/vnd.jupyter.widget-view+json": {
              "model_id": "b5353c4794934098b3011fb57188542f",
              "version_major": 2,
              "version_minor": 0
            },
            "text/plain": [
              "  0%|          | 0/34685 [00:00<?, ?it/s]"
            ]
          },
          "metadata": {},
          "output_type": "display_data"
        }
      ]
    },
    {
      "cell_type": "code",
      "source": [
        "from scipy.ndimage import gaussian_filter\n",
        "nprint(\"Displaying F.P.R. with Gaussian Filter sigma=%g.\" % (sigma:=zero))\n",
        "\n",
        "Z=(df:=results.reset_index()).pivot_table(index=\"Beta\",columns=\"Portfolio\",values=\"Normal Test\").values\n",
        "X,Y=np.meshgrid(np.sort(df[\"Portfolio\"].unique()),np.sort(df[\"Beta\"].unique()))\n",
        "\n",
        "figure,plot=pl.subplots(figsize=(ten*GoldenRatio,ten))\n",
        "mesh=plot.pcolormesh(X,Y,gaussian_filter(Z,sigma) if sigma else Z,cmap='spring')\n",
        "plot.set_xscale('log')\n",
        "plot.xaxis.set_major_formatter(CountLabels(0))\n",
        "plot.set_xlabel(\"Portfolio Size, $N$\",fontsize=12)\n",
        "plot.set_ylabel(\"Skewness Parameter, $\\\\beta$\",fontsize=12)\n",
        "figure.suptitle(title:=\"Normality of Portfolio Returns for %d Days with %.0f%% Correlation\\nwith Returns Drawn from the Generalized Normal Distribution\" % (sample_size,rho*hundred),fontsize=22)\n",
        "\n",
        "for y,t in (two,\"Normal\"),(one,\"Laplace\"):\n",
        "    plot.axhline(y,color=(c:='blue'),linestyle=':')\n",
        "    plot.text(X.min(),y+0.01,t,color=c,ha='left',va='bottom')\n",
        "\n",
        "for x,t in ((30,'High-School \"Large\" Sample'),):\n",
        "    plot.axvline(x,color=c,linestyle=':')\n",
        "    plot.text(x*0.94,y+0.01,t,color=c,ha='left',va='bottom',rotation=90)\n",
        "\n",
        "figure.colorbar(mesh,ax=plot,label='Normality Test $p$ Value')\n",
        "figure.savefig(filename:=\"/content/drive/MyDrive/\"+title.split(\"\\n\")[0]+\".png\",dpi=300,bbox_inches='tight')\n",
        "nprint(\"Saved plot to persistent storage at: %s.\" % filename)"
      ],
      "metadata": {
        "id": "FniA_fHbfy14"
      },
      "execution_count": null,
      "outputs": []
    },
    {
      "cell_type": "code",
      "source": [
        "from PIL import Image\n",
        "from os import listdir\n",
        "from matplotlib.pyplot import imread,imshow\n",
        "frames=[]\n",
        "\n",
        "nprint(\"Getting list of image files to merge...\")\n",
        "\n",
        "for file in sorted([f for f in listdir(\"/content/drive/MyDrive\") if \"Normality of Portfolio Returns\" in f]):\n",
        "    frames.append(Image.open(\"/content/drive/MyDrive/%s\" % file))\n",
        "    nprint(\"Appended '%s' to frames.\" % file)\n",
        "\n",
        "nprint(\"Writing images to %s as animated gif.\" % (filename:=\"Animation.gif\"))\n",
        "frames[0].save(filename,append_images=frames[1:],save_all=True,duration=500,loop=0,minimize_size=True)\n",
        "\n",
        "# thumnail it in the output (won't animate currently)\n",
        "animation = imread(filename)\n",
        "figure,plot=pl.subplots(figsize=(ten*GoldenRatio,ten))\n",
        "plot.imshow(animation)\n",
        "nprint(\"Done.\")"
      ],
      "metadata": {
        "id": "JqEigODBycY2"
      },
      "execution_count": null,
      "outputs": []
    },
    {
      "cell_type": "code",
      "source": [],
      "metadata": {
        "id": "0sUD4HN3yfEA"
      },
      "execution_count": null,
      "outputs": []
    }
  ]
}