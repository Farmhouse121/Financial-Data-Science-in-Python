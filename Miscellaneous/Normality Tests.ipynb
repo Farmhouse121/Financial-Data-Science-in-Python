{
  "nbformat": 4,
  "nbformat_minor": 0,
  "metadata": {
    "colab": {
      "provenance": [],
      "authorship_tag": "ABX9TyMRdewswu2j9SfCiapyiL4g",
      "include_colab_link": true
    },
    "kernelspec": {
      "name": "python3",
      "display_name": "Python 3"
    },
    "language_info": {
      "name": "python"
    },
    "widgets": {
      "application/vnd.jupyter.widget-state+json": {
        "befd5f002ea940858982f89928e7f52f": {
          "model_module": "@jupyter-widgets/controls",
          "model_name": "HBoxModel",
          "model_module_version": "1.5.0",
          "state": {
            "_dom_classes": [],
            "_model_module": "@jupyter-widgets/controls",
            "_model_module_version": "1.5.0",
            "_model_name": "HBoxModel",
            "_view_count": null,
            "_view_module": "@jupyter-widgets/controls",
            "_view_module_version": "1.5.0",
            "_view_name": "HBoxView",
            "box_style": "",
            "children": [
              "IPY_MODEL_82c168f4028c460cb2b926cec4593e0c",
              "IPY_MODEL_98fee114ecaf4959a86ec593ee81d6c6",
              "IPY_MODEL_d7d85ea4b67948c9b7bac05ad183d575"
            ],
            "layout": "IPY_MODEL_45a145c1bf874eb0b86043a1b4763c3c"
          }
        },
        "82c168f4028c460cb2b926cec4593e0c": {
          "model_module": "@jupyter-widgets/controls",
          "model_name": "HTMLModel",
          "model_module_version": "1.5.0",
          "state": {
            "_dom_classes": [],
            "_model_module": "@jupyter-widgets/controls",
            "_model_module_version": "1.5.0",
            "_model_name": "HTMLModel",
            "_view_count": null,
            "_view_module": "@jupyter-widgets/controls",
            "_view_module_version": "1.5.0",
            "_view_name": "HTMLView",
            "description": "",
            "description_tooltip": null,
            "layout": "IPY_MODEL_cab46965577c4f8bbea8f930dc027ad6",
            "placeholder": "​",
            "style": "IPY_MODEL_886667d1ac2244eeab67ba7dd604f07c",
            "value": " 13%"
          }
        },
        "98fee114ecaf4959a86ec593ee81d6c6": {
          "model_module": "@jupyter-widgets/controls",
          "model_name": "FloatProgressModel",
          "model_module_version": "1.5.0",
          "state": {
            "_dom_classes": [],
            "_model_module": "@jupyter-widgets/controls",
            "_model_module_version": "1.5.0",
            "_model_name": "FloatProgressModel",
            "_view_count": null,
            "_view_module": "@jupyter-widgets/controls",
            "_view_module_version": "1.5.0",
            "_view_name": "ProgressView",
            "bar_style": "",
            "description": "",
            "description_tooltip": null,
            "layout": "IPY_MODEL_425c5bde8a424fa3a95b8642e5373856",
            "max": 34685,
            "min": 0,
            "orientation": "horizontal",
            "style": "IPY_MODEL_b1ef27140e73402e9533d41f566c2cb3",
            "value": 4742
          }
        },
        "d7d85ea4b67948c9b7bac05ad183d575": {
          "model_module": "@jupyter-widgets/controls",
          "model_name": "HTMLModel",
          "model_module_version": "1.5.0",
          "state": {
            "_dom_classes": [],
            "_model_module": "@jupyter-widgets/controls",
            "_model_module_version": "1.5.0",
            "_model_name": "HTMLModel",
            "_view_count": null,
            "_view_module": "@jupyter-widgets/controls",
            "_view_module_version": "1.5.0",
            "_view_name": "HTMLView",
            "description": "",
            "description_tooltip": null,
            "layout": "IPY_MODEL_3edfc217941d402fa2de6867250550a5",
            "placeholder": "​",
            "style": "IPY_MODEL_73d7fd624a1c48eaa5cc53c849433529",
            "value": " 4742/34685 [1:38:07&lt;10:06:58,  1.22s/it]"
          }
        },
        "45a145c1bf874eb0b86043a1b4763c3c": {
          "model_module": "@jupyter-widgets/base",
          "model_name": "LayoutModel",
          "model_module_version": "1.2.0",
          "state": {
            "_model_module": "@jupyter-widgets/base",
            "_model_module_version": "1.2.0",
            "_model_name": "LayoutModel",
            "_view_count": null,
            "_view_module": "@jupyter-widgets/base",
            "_view_module_version": "1.2.0",
            "_view_name": "LayoutView",
            "align_content": null,
            "align_items": null,
            "align_self": null,
            "border": null,
            "bottom": null,
            "display": null,
            "flex": null,
            "flex_flow": null,
            "grid_area": null,
            "grid_auto_columns": null,
            "grid_auto_flow": null,
            "grid_auto_rows": null,
            "grid_column": null,
            "grid_gap": null,
            "grid_row": null,
            "grid_template_areas": null,
            "grid_template_columns": null,
            "grid_template_rows": null,
            "height": null,
            "justify_content": null,
            "justify_items": null,
            "left": null,
            "margin": null,
            "max_height": null,
            "max_width": null,
            "min_height": null,
            "min_width": null,
            "object_fit": null,
            "object_position": null,
            "order": null,
            "overflow": null,
            "overflow_x": null,
            "overflow_y": null,
            "padding": null,
            "right": null,
            "top": null,
            "visibility": null,
            "width": null
          }
        },
        "cab46965577c4f8bbea8f930dc027ad6": {
          "model_module": "@jupyter-widgets/base",
          "model_name": "LayoutModel",
          "model_module_version": "1.2.0",
          "state": {
            "_model_module": "@jupyter-widgets/base",
            "_model_module_version": "1.2.0",
            "_model_name": "LayoutModel",
            "_view_count": null,
            "_view_module": "@jupyter-widgets/base",
            "_view_module_version": "1.2.0",
            "_view_name": "LayoutView",
            "align_content": null,
            "align_items": null,
            "align_self": null,
            "border": null,
            "bottom": null,
            "display": null,
            "flex": null,
            "flex_flow": null,
            "grid_area": null,
            "grid_auto_columns": null,
            "grid_auto_flow": null,
            "grid_auto_rows": null,
            "grid_column": null,
            "grid_gap": null,
            "grid_row": null,
            "grid_template_areas": null,
            "grid_template_columns": null,
            "grid_template_rows": null,
            "height": null,
            "justify_content": null,
            "justify_items": null,
            "left": null,
            "margin": null,
            "max_height": null,
            "max_width": null,
            "min_height": null,
            "min_width": null,
            "object_fit": null,
            "object_position": null,
            "order": null,
            "overflow": null,
            "overflow_x": null,
            "overflow_y": null,
            "padding": null,
            "right": null,
            "top": null,
            "visibility": null,
            "width": null
          }
        },
        "886667d1ac2244eeab67ba7dd604f07c": {
          "model_module": "@jupyter-widgets/controls",
          "model_name": "DescriptionStyleModel",
          "model_module_version": "1.5.0",
          "state": {
            "_model_module": "@jupyter-widgets/controls",
            "_model_module_version": "1.5.0",
            "_model_name": "DescriptionStyleModel",
            "_view_count": null,
            "_view_module": "@jupyter-widgets/base",
            "_view_module_version": "1.2.0",
            "_view_name": "StyleView",
            "description_width": ""
          }
        },
        "425c5bde8a424fa3a95b8642e5373856": {
          "model_module": "@jupyter-widgets/base",
          "model_name": "LayoutModel",
          "model_module_version": "1.2.0",
          "state": {
            "_model_module": "@jupyter-widgets/base",
            "_model_module_version": "1.2.0",
            "_model_name": "LayoutModel",
            "_view_count": null,
            "_view_module": "@jupyter-widgets/base",
            "_view_module_version": "1.2.0",
            "_view_name": "LayoutView",
            "align_content": null,
            "align_items": null,
            "align_self": null,
            "border": null,
            "bottom": null,
            "display": null,
            "flex": null,
            "flex_flow": null,
            "grid_area": null,
            "grid_auto_columns": null,
            "grid_auto_flow": null,
            "grid_auto_rows": null,
            "grid_column": null,
            "grid_gap": null,
            "grid_row": null,
            "grid_template_areas": null,
            "grid_template_columns": null,
            "grid_template_rows": null,
            "height": null,
            "justify_content": null,
            "justify_items": null,
            "left": null,
            "margin": null,
            "max_height": null,
            "max_width": null,
            "min_height": null,
            "min_width": null,
            "object_fit": null,
            "object_position": null,
            "order": null,
            "overflow": null,
            "overflow_x": null,
            "overflow_y": null,
            "padding": null,
            "right": null,
            "top": null,
            "visibility": null,
            "width": null
          }
        },
        "b1ef27140e73402e9533d41f566c2cb3": {
          "model_module": "@jupyter-widgets/controls",
          "model_name": "ProgressStyleModel",
          "model_module_version": "1.5.0",
          "state": {
            "_model_module": "@jupyter-widgets/controls",
            "_model_module_version": "1.5.0",
            "_model_name": "ProgressStyleModel",
            "_view_count": null,
            "_view_module": "@jupyter-widgets/base",
            "_view_module_version": "1.2.0",
            "_view_name": "StyleView",
            "bar_color": null,
            "description_width": ""
          }
        },
        "3edfc217941d402fa2de6867250550a5": {
          "model_module": "@jupyter-widgets/base",
          "model_name": "LayoutModel",
          "model_module_version": "1.2.0",
          "state": {
            "_model_module": "@jupyter-widgets/base",
            "_model_module_version": "1.2.0",
            "_model_name": "LayoutModel",
            "_view_count": null,
            "_view_module": "@jupyter-widgets/base",
            "_view_module_version": "1.2.0",
            "_view_name": "LayoutView",
            "align_content": null,
            "align_items": null,
            "align_self": null,
            "border": null,
            "bottom": null,
            "display": null,
            "flex": null,
            "flex_flow": null,
            "grid_area": null,
            "grid_auto_columns": null,
            "grid_auto_flow": null,
            "grid_auto_rows": null,
            "grid_column": null,
            "grid_gap": null,
            "grid_row": null,
            "grid_template_areas": null,
            "grid_template_columns": null,
            "grid_template_rows": null,
            "height": null,
            "justify_content": null,
            "justify_items": null,
            "left": null,
            "margin": null,
            "max_height": null,
            "max_width": null,
            "min_height": null,
            "min_width": null,
            "object_fit": null,
            "object_position": null,
            "order": null,
            "overflow": null,
            "overflow_x": null,
            "overflow_y": null,
            "padding": null,
            "right": null,
            "top": null,
            "visibility": null,
            "width": null
          }
        },
        "73d7fd624a1c48eaa5cc53c849433529": {
          "model_module": "@jupyter-widgets/controls",
          "model_name": "DescriptionStyleModel",
          "model_module_version": "1.5.0",
          "state": {
            "_model_module": "@jupyter-widgets/controls",
            "_model_module_version": "1.5.0",
            "_model_name": "DescriptionStyleModel",
            "_view_count": null,
            "_view_module": "@jupyter-widgets/base",
            "_view_module_version": "1.2.0",
            "_view_name": "StyleView",
            "description_width": ""
          }
        }
      }
    }
  },
  "cells": [
    {
      "cell_type": "markdown",
      "metadata": {
        "id": "view-in-github",
        "colab_type": "text"
      },
      "source": [
        "<a href=\"https://colab.research.google.com/github/Farmhouse121/Financial-Data-Science-in-Python/blob/main/Miscellaneous/Normality%20Tests.ipynb\" target=\"_parent\"><img src=\"https://colab.research.google.com/assets/colab-badge.svg\" alt=\"Open In Colab\"/></a>"
      ]
    },
    {
      "cell_type": "code",
      "execution_count": 1,
      "metadata": {
        "colab": {
          "base_uri": "https://localhost:8080/"
        },
        "id": "s34EvR0_ax-c",
        "outputId": "7e4d11ef-aed5-491b-d25e-25e867cc4877"
      },
      "outputs": [
        {
          "output_type": "stream",
          "name": "stdout",
          "text": [
            "13:40:12 Starting...\n",
            "13:40:12 Installing yfinance into Google notebook...\n",
            "13:40:22 Installing arch into Google notebook...\n",
            "13:40:29 Initialized.\n"
          ]
        }
      ],
      "source": [
        "from my_library import *"
      ]
    },
    {
      "cell_type": "code",
      "source": [
        "from scipy.stats import norm,gennorm,normaltest as normal_test\n",
        "from itertools import product\n",
        "\n",
        "results=pd.DataFrame()\n",
        "results.index=pd.MultiIndex.from_tuples(list(product(list(range(10,1001,1)),list(np.arange(half,four,0.1)))))\n",
        "results.index.names=[\"Portfolio\",\"Beta\"]\n",
        "sample_size=int(annualize*five) # year of daily returns in US markets\n",
        "\n",
        "for n,beta in tqdm(results.index):\n",
        "    sample=pd.Series(np.array([gennorm(beta,zero,one).rvs(n).mean() for _ in range(sample_size)])) # sample_size observations of mean of n rvs with given beta\n",
        "    results.loc[(n,beta),\"Mean\"]=sample.mean()\n",
        "    results.loc[(n,beta),\"St.Dev.\"]=sample.var()\n",
        "    results.loc[(n,beta),\"Skewness\"]=sample.skew()\n",
        "    results.loc[(n,beta),\"Kurtosis\"]=sample.kurt()+three\n",
        "    results.loc[(n,beta),\"Normal Test\"]=normal_test(sample)[1]\n",
        "\n",
        "for alpha in 0.05,0.01,0.001:\n",
        "    results[\"NT %g\" % (alpha*hundred)]=results[\"Normal Test\"]<alpha\n",
        "\n",
        "display(results)"
      ],
      "metadata": {
        "id": "6HqH-iEra29s",
        "colab": {
          "base_uri": "https://localhost:8080/",
          "height": 49,
          "referenced_widgets": [
            "befd5f002ea940858982f89928e7f52f",
            "82c168f4028c460cb2b926cec4593e0c",
            "98fee114ecaf4959a86ec593ee81d6c6",
            "d7d85ea4b67948c9b7bac05ad183d575",
            "45a145c1bf874eb0b86043a1b4763c3c",
            "cab46965577c4f8bbea8f930dc027ad6",
            "886667d1ac2244eeab67ba7dd604f07c",
            "425c5bde8a424fa3a95b8642e5373856",
            "b1ef27140e73402e9533d41f566c2cb3",
            "3edfc217941d402fa2de6867250550a5",
            "73d7fd624a1c48eaa5cc53c849433529"
          ]
        },
        "outputId": "3ce64ab9-c968-4993-8f0e-75d23dd3a174"
      },
      "execution_count": null,
      "outputs": [
        {
          "data": {
            "application/vnd.jupyter.widget-view+json": {
              "model_id": "befd5f002ea940858982f89928e7f52f",
              "version_major": 2,
              "version_minor": 0
            },
            "text/plain": [
              "  0%|          | 0/34685 [00:00<?, ?it/s]"
            ]
          },
          "metadata": {},
          "output_type": "display_data"
        }
      ]
    },
    {
      "cell_type": "code",
      "source": [
        "from scipy.ndimage import gaussian_filter\n",
        "nprint(\"Displaying F.P.R. with Gaussian Filter sigma=%g.\" % (sigma:=zero))\n",
        "\n",
        "Z=(df:=results.reset_index()).pivot_table(index=\"Beta\",columns=\"Portfolio\",values=\"Normal Test\").values\n",
        "X,Y=np.meshgrid(np.sort(df[\"Portfolio\"].unique()),np.sort(df[\"Beta\"].unique()))\n",
        "\n",
        "figure,plot=pl.subplots(figsize=(ten*GoldenRatio,ten))\n",
        "mesh=plot.pcolormesh(X,Y,gaussian_filter(Z,sigma) if sigma else Z,cmap='spring')\n",
        "plot.set_xscale('log')\n",
        "plot.xaxis.set_major_formatter(CountLabels(0))\n",
        "plot.set_xlabel(\"Portfolio Size, $N$\",fontsize=12)\n",
        "plot.set_ylabel(\"Skewness Parameter, $\\\\beta$\",fontsize=12)\n",
        "figure.suptitle(title:=\"Normality of Portfolio Returns with a Sample Size of %d\\nwith Returns Drawn from the Generalized Normal Distribution\" % sample_size,fontsize=22)\n",
        "\n",
        "for y,t in (two,\"Normal\"),(one,\"Laplace\"):\n",
        "    plot.axhline(y,color=(c:='black'),linestyle=':')\n",
        "    plot.text(X.min(),y+0.01,t,color=c,ha='left',va='bottom')\n",
        "\n",
        "for x,t in ((30,'High-School \"Large\" Sample'),):\n",
        "    plot.axvline(x,color=c,linestyle=':')\n",
        "    plot.text(x*1.02,y+0.01,t,color=c,ha='left',va='bottom')\n",
        "\n",
        "figure.colorbar(mesh,ax=plot,label='Normality Test $p$ Value')\n",
        "figure.savefig(title.split(\"\\n\")[0]+\".png\",dpi=300,bbox_inches='tight')"
      ],
      "metadata": {
        "id": "FniA_fHbfy14"
      },
      "execution_count": null,
      "outputs": []
    },
    {
      "cell_type": "code",
      "source": [],
      "metadata": {
        "id": "0Eobgx1IFiCJ"
      },
      "execution_count": null,
      "outputs": []
    },
    {
      "cell_type": "code",
      "source": [],
      "metadata": {
        "id": "x7Mzh3CGPbnx"
      },
      "execution_count": null,
      "outputs": []
    }
  ]
}