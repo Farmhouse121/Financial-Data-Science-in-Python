{
  "nbformat": 4,
  "nbformat_minor": 0,
  "metadata": {
    "colab": {
      "provenance": [],
      "authorship_tag": "ABX9TyNYczcNN9wS+PC+xzJo1gH9",
      "include_colab_link": true
    },
    "kernelspec": {
      "name": "python3",
      "display_name": "Python 3"
    },
    "language_info": {
      "name": "python"
    }
  },
  "cells": [
    {
      "cell_type": "markdown",
      "metadata": {
        "id": "view-in-github",
        "colab_type": "text"
      },
      "source": [
        "<a href=\"https://colab.research.google.com/github/Farmhouse121/Financial-Data-Science-in-Python/blob/main/The%20Market's%20Not%20Normal/walkthrough.ipynb\" target=\"_parent\"><img src=\"https://colab.research.google.com/assets/colab-badge.svg\" alt=\"Open In Colab\"/></a>"
      ]
    },
    {
      "cell_type": "markdown",
      "source": [
        "To execute the code in this notebook, you're going to need to upload the my_library.py file from the associated GitHub repository (because Google will delete it when the virtual machine goes away, and so it's likely no longer available here). This is easy, but nothing will work without it.\n",
        "\n",
        "Once that is done, execute the next cell..."
      ],
      "metadata": {
        "id": "JX7vYlxXW0Uu"
      }
    },
    {
      "cell_type": "code",
      "execution_count": 1,
      "metadata": {
        "colab": {
          "base_uri": "https://localhost:8080/"
        },
        "id": "OvtyRTmPVf0i",
        "outputId": "ce70897b-0155-40aa-af20-3e85be8ce516"
      },
      "outputs": [
        {
          "output_type": "stream",
          "name": "stdout",
          "text": [
            "22:06:30 Starting...\n",
            "22:06:30 Installing yfinance into Google notebook...\n",
            "22:06:36 Installing arch into Google notebook...\n",
            "22:06:44 Initialized.\n"
          ]
        }
      ],
      "source": [
        "from my_library import *"
      ]
    },
    {
      "cell_type": "code",
      "source": [],
      "metadata": {
        "id": "V04ZPHoTXSCA"
      },
      "execution_count": null,
      "outputs": []
    }
  ]
}