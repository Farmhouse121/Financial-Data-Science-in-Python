{
  "nbformat": 4,
  "nbformat_minor": 0,
  "metadata": {
    "colab": {
      "provenance": [],
      "authorship_tag": "ABX9TyMWROvzea1cr794c4x43pll",
      "include_colab_link": true
    },
    "kernelspec": {
      "name": "python3",
      "display_name": "Python 3"
    },
    "language_info": {
      "name": "python"
    }
  },
  "cells": [
    {
      "cell_type": "markdown",
      "metadata": {
        "id": "view-in-github",
        "colab_type": "text"
      },
      "source": [
        "<a href=\"https://colab.research.google.com/github/Farmhouse121/Financial-Data-Science-in-Python/blob/main/Alphas/Market_Return_by_Payday.ipynb\" target=\"_parent\"><img src=\"https://colab.research.google.com/assets/colab-badge.svg\" alt=\"Open In Colab\"/></a>"
      ]
    },
    {
      "cell_type": "code",
      "execution_count": 5,
      "metadata": {
        "colab": {
          "base_uri": "https://localhost:8080/"
        },
        "id": "FzWGvzbC4ybj",
        "outputId": "1c657ffa-03d4-4491-974b-c300444fc66a"
      },
      "outputs": [
        {
          "output_type": "stream",
          "name": "stdout",
          "text": [
            "17:39:43 Starting...\n",
            "17:39:43 Installing yfinance into Google notebook...\n",
            "17:39:45 Installing arch into Google notebook...\n",
            "17:39:49 Initialized.\n"
          ]
        }
      ],
      "source": [
        "from my_library import *"
      ]
    },
    {
      "cell_type": "markdown",
      "source": [
        "## Get the Data"
      ],
      "metadata": {
        "id": "JRxP5gEn5GFV"
      }
    },
    {
      "cell_type": "code",
      "source": [
        "data,ticker_name=download(ticker:='SPY',end='2019-12-31',auto_adjust=True).xs(ticker,axis=1,level=1),'S&P 500 Index ETF'\n",
        "\n",
        "if 0 in data.shape:\n",
        "    raise RuntimeError(\"Problem downloading data from Yahoo! finance.\")\n",
        "\n",
        "data['Return']=data['Close'].pct_change()*hundred\n",
        "data.columns.name=ticker_name\n",
        "data.dropna(inplace=True)\n",
        "data.index=list(map(lambda x:pd.Period(x,'D'),data.index))\n",
        "data['Weekday']=list(map(lambda x:x.strftime(\"%A\"),data.index))\n",
        "data['Monthday']=data.index.day\n",
        "data['DaysInMonth']=list(map(lambda x:pd.Period(x,'M').daysinmonth,data.index))\n",
        "data['Month']=list(map(lambda x:x.strftime(\"%B\"),data.index))\n",
        "data['FirstPayment']=(data['Monthday']==1)|(data['Monthday'].shift(-1).isin([2,3,4]))&(data['Month']!=data['Month'].shift(-1))\n",
        "data['SecondPayment']=(data['Monthday']>=15)&(data['Monthday'].shift()<15)\n",
        "data['Payday']=(data['FirstPayment']|data['SecondPayment']).apply(lambda x:\"Payday\" if x else \"Regular\")\n",
        "data['Julian']=list(map(lambda x:float((x-data.index[0]).n),data.index))\n",
        "data['DaysSincePayment']=data['Julian']-(data['Julian']*data['Payday'].apply(lambda x:one if x==\"Payday\" else np.nan)).ffill()\n",
        "display(data)"
      ],
      "metadata": {
        "colab": {
          "base_uri": "https://localhost:8080/",
          "height": 291
        },
        "id": "4xuw_M0Q4_qA",
        "outputId": "78859dcd-558a-480f-f98b-ea548b340369"
      },
      "execution_count": 12,
      "outputs": [
        {
          "output_type": "stream",
          "name": "stderr",
          "text": [
            "\r[*********************100%***********************]  1 of 1 completed\n",
            "ERROR:yfinance:\n",
            "1 Failed download:\n",
            "ERROR:yfinance:['SPY']: YFRateLimitError('Too Many Requests. Rate limited. Try after a while.')\n"
          ]
        },
        {
          "output_type": "error",
          "ename": "RuntimeError",
          "evalue": "Problem downloading data from Yahoo! finance.",
          "traceback": [
            "\u001b[0;31m---------------------------------------------------------------------------\u001b[0m",
            "\u001b[0;31mRuntimeError\u001b[0m                              Traceback (most recent call last)",
            "\u001b[0;32m<ipython-input-12-52edbfd2f9b4>\u001b[0m in \u001b[0;36m<cell line: 0>\u001b[0;34m()\u001b[0m\n\u001b[1;32m      2\u001b[0m \u001b[0;34m\u001b[0m\u001b[0m\n\u001b[1;32m      3\u001b[0m \u001b[0;32mif\u001b[0m \u001b[0;36m0\u001b[0m \u001b[0;32min\u001b[0m \u001b[0mdata\u001b[0m\u001b[0;34m.\u001b[0m\u001b[0mshape\u001b[0m\u001b[0;34m:\u001b[0m\u001b[0;34m\u001b[0m\u001b[0;34m\u001b[0m\u001b[0m\n\u001b[0;32m----> 4\u001b[0;31m     \u001b[0;32mraise\u001b[0m \u001b[0mRuntimeError\u001b[0m\u001b[0;34m(\u001b[0m\u001b[0;34m\"Problem downloading data from Yahoo! finance.\"\u001b[0m\u001b[0;34m)\u001b[0m\u001b[0;34m\u001b[0m\u001b[0;34m\u001b[0m\u001b[0m\n\u001b[0m\u001b[1;32m      5\u001b[0m \u001b[0;34m\u001b[0m\u001b[0m\n\u001b[1;32m      6\u001b[0m \u001b[0mdata\u001b[0m\u001b[0;34m[\u001b[0m\u001b[0;34m'Return'\u001b[0m\u001b[0;34m]\u001b[0m\u001b[0;34m=\u001b[0m\u001b[0mdata\u001b[0m\u001b[0;34m[\u001b[0m\u001b[0;34m'Close'\u001b[0m\u001b[0;34m]\u001b[0m\u001b[0;34m.\u001b[0m\u001b[0mpct_change\u001b[0m\u001b[0;34m(\u001b[0m\u001b[0;34m)\u001b[0m\u001b[0;34m*\u001b[0m\u001b[0mhundred\u001b[0m\u001b[0;34m\u001b[0m\u001b[0;34m\u001b[0m\u001b[0m\n",
            "\u001b[0;31mRuntimeError\u001b[0m: Problem downloading data from Yahoo! finance."
          ]
        }
      ]
    },
    {
      "cell_type": "code",
      "source": [
        "figure,plot=pl.subplots(figsize=(ten*GoldenRatio,ten))\n",
        "data['Return'].plot(ax=plot)\n",
        "plot.set_ylabel(\"Daily Return\",fontsize=12)\n",
        "plot.yaxis.set_major_formatter(PercentLabels(0))\n",
        "figure.suptitle(title:=\"Daily Returns of {}\".format(ticker_name),fontsize=22)\n",
        "plot.set_title(subtitle:=\"Daily Adjusted Returns of {}, {} to {}\".format(ticker,data.index[0],data.index[-1]),fontsize=20)\n",
        "figure.savefig(filename:=title+'.png',dpi=300,bbox_inches='tight')\n",
        "plot.axhline(color='black',alpha=0.2)\n",
        "nprint(\"Wrote plot to {}.\".format(filename))"
      ],
      "metadata": {
        "id": "0WD5mn2eqa_A"
      },
      "execution_count": null,
      "outputs": []
    },
    {
      "cell_type": "markdown",
      "source": [
        "## Analyse Returns by Selected Period\n",
        "### First Just a Simple Grouped Mean"
      ],
      "metadata": {
        "id": "1n55U_uO9WVl"
      }
    },
    {
      "cell_type": "code",
      "source": [
        "from scipy.stats import t as studentt\n",
        "\n",
        "nprint(\"t Test for a Zero Mean\")\n",
        "results=(grouped:=data[['Return',group_name:='Payday']].groupby(group_name)).mean().rename(columns={'Return':'Mean'})\n",
        "results['Std.Dev.']=grouped.std()\n",
        "results['Count']=grouped.count()\n",
        "results['Std.Err.']=results['Std.Dev.']/np.sqrt(results['Count'])\n",
        "results['t Statistic']=results['Mean']/results['Std.Err.']\n",
        "results['p Value']=studentt.sf(np.abs(results['t Statistic']),results['Count']-1)*2\n",
        "results['Significance']=results['p Value'].apply(lambda x:'***' if x<=0.001 else '**' if x<=0.01 else '*' if x<0.05 else '')\n",
        "results.index.name=(group_long_name:='Day of Week' if group_name=='Weekday' else 'Day of Month' if group_name=='Monthday' else group_name)\n",
        "\n",
        "if group_name=='Weekday':\n",
        "    results=results.reindex(['Monday','Tuesday','Wednesday','Thursday','Friday'])\n",
        "\n",
        "display(results)\n",
        "\n",
        "figure,plot=pl.subplots(figsize=(ten*GoldenRatio,ten))\n",
        "plot.errorbar(x:=results.index,y:=results['Mean'],ye:=results['Std.Err.'],fmt='o')\n",
        "plot.axhline(color='black',alpha=0.2)\n",
        "plot.set_ylabel(\"Conditional Mean Return\",fontsize=12)\n",
        "plot.yaxis.set_major_formatter(PercentLabels(2))\n",
        "plot.set_xlabel(group_long_name if group_name=='Monthday' else None,fontsize=12)\n",
        "plot.axhline(m:=data['Return'].mean(),color='black',alpha=0.2,linestyle=':')\n",
        "plot.text(x[0],m,' Unconditional Mean Return',fontsize=8,ha='left',va='bottom')\n",
        "figure.suptitle(title:=\"Average Returns of {} by {}\".format(ticker_name,group_long_name),fontsize=22)\n",
        "plot.set_title(subtitle:=\"Daily Adjusted Returns of {}, {} to {}\".format(ticker,data.index[0],data.index[-1]),fontsize=20)\n",
        "figure.savefig(filename:=title+'.png',dpi=300,bbox_inches='tight')\n",
        "nprint(\"Wrote plot to {}.\".format(filename))"
      ],
      "metadata": {
        "id": "hob3d8HM5Olm"
      },
      "execution_count": null,
      "outputs": []
    },
    {
      "cell_type": "markdown",
      "source": [
        "### One Way ANOVA Analysis"
      ],
      "metadata": {
        "id": "H700L-wX0AhC"
      }
    },
    {
      "cell_type": "code",
      "source": [
        "from statsmodels.formula.api import ols as OLSformula\n",
        "from statsmodels.stats.anova import anova_lm\n",
        "\n",
        "nprint(\"One Way ANOVA Analysis by {}\".format(group_name))\n",
        "anova=anova_lm(OLSformula(\"Return ~ {}\".format(group_name),data).fit(),typ=2).rename(columns={'sum_sq':'Sum of Squares','df':'d.o.f.','PR(>F)':'p Value','F':'F Statistic'})\n",
        "anova['Significance']=anova['p Value'].apply(lambda x:'***' if x<=0.001 else '**' if x<=0.01 else '*' if x<0.05 else '')\n",
        "anova.index=['Between Groups','Within Groups']\n",
        "anova.index.name='Variation'\n",
        "display(anova.replace(np.nan,\"\"))"
      ],
      "metadata": {
        "id": "MwlJCXQ60E1h"
      },
      "execution_count": null,
      "outputs": []
    },
    {
      "cell_type": "markdown",
      "source": [
        "### Now do an OLS with Indicator Variables\n",
        "This will deliver *exactly* the same results as the grouped means, but with some other statistics for \"free.\""
      ],
      "metadata": {
        "id": "qmZdzbRBCRvo"
      }
    },
    {
      "cell_type": "code",
      "source": [
        "from statsmodels.regression.linear_model import OLS\n",
        "\n",
        "nprint(\"Baseline OLS regression with indicator variables. This should produce *exactly* the same results as the conditional means above.\")\n",
        "display(design:=pd.get_dummies(data[group_name],columns=[group_name],dtype=float)[results.index].merge(data['Return'],left_index=True,right_index=True))\n",
        "fit=ols_fit=OLS(design['Return'],design.drop('Return',axis=1)).fit()\n",
        "nprint(fit.summary())"
      ],
      "metadata": {
        "id": "gi0nspGfA7u7"
      },
      "execution_count": null,
      "outputs": []
    },
    {
      "cell_type": "markdown",
      "source": [
        "### Now fit a GJR-GARCH(1,1,1) Model with the Same Dummies and Non-Normal Innovations\n",
        "This is a _way more accurate_ distributional model that the Normal model assumed by OLS. It will weight high-volatility days appropriately."
      ],
      "metadata": {
        "id": "RU-fycamEu8d"
      }
    },
    {
      "cell_type": "code",
      "source": [
        "from scipy.stats import norm\n",
        "\n",
        "nprint(\"Fitting GJR-GARCH(1,1,1) Model with GED Innovations\")\n",
        "model=ARX(design[\"Return\"],design.drop('Return',axis=1),constant=False,lags=0)\n",
        "model.volatility=GARCH2(1,1,1)\n",
        "model.distribution=GeneralizedError2()\n",
        "fit=gjr_fit=model.fit(update_freq=0)\n",
        "nprint(gjr_fit.summary())\n",
        "data['Volatility']=gjr_fit.conditional_volatility\n",
        "\n",
        "results=pd.DataFrame({'Estimate':fit.params,'Std.Err.':fit.std_err,'Null Value':[zero]*(len(fit.params)-5)+[np.nan,zero,zero,zero]+[two]})\n",
        "results['t Score']=(results['Estimate']-results['Null Value'])/results['Std.Err.']\n",
        "results['p Value']=list(map(lambda x:min(norm.cdf(x),norm.sf(x))*two,results['t Score']))\n",
        "results['Significance']=results['p Value'].apply(lambda x:'***' if x<=0.001 else '**' if x<=0.01 else '*' if x<0.05 else '')\n",
        "display(results.replace(np.nan,\"\"))"
      ],
      "metadata": {
        "id": "4dzZnrcfEFj2"
      },
      "execution_count": null,
      "outputs": []
    },
    {
      "cell_type": "markdown",
      "source": [
        "### Repeat the Simple Plot by Selected Period"
      ],
      "metadata": {
        "id": "ex3pcdFIfI2T"
      }
    },
    {
      "cell_type": "code",
      "source": [
        "figure,plot=pl.subplots(figsize=(ten*GoldenRatio,ten))\n",
        "plot.errorbar(x:=results.index[:-5],results.loc[x,'Estimate'],results.loc[x,'Std.Err.'],fmt='o')\n",
        "plot.axhline(color='black',alpha=0.2)\n",
        "plot.set_ylabel(\"Estimated Daily Return\",fontsize=12)\n",
        "plot.yaxis.set_major_formatter(PercentLabels(2))\n",
        "plot.axhline(m:=data['Return'].mean(),color='black',alpha=0.2,linestyle=':')\n",
        "plot.text(x[0],m,' Unconditional Mean Return',fontsize=8,ha='left',va='bottom')\n",
        "figure.suptitle(title:=\"Estimated Daily Returns of {} by {}\".format(ticker_name,group_long_name),fontsize=22)\n",
        "plot.set_title(subtitle:=\"Daily Adjusted Returns of {}, {} to {}\".format(ticker,data.index[0],data.index[-1]),fontsize=20)\n",
        "figure.savefig(filename:=title+'.png',dpi=300,bbox_inches='tight')\n",
        "nprint(\"Wrote plot to {}.\".format(filename))"
      ],
      "metadata": {
        "id": "sA1bovHcfMoM"
      },
      "execution_count": null,
      "outputs": []
    },
    {
      "cell_type": "markdown",
      "source": [
        "### Compute the MLRT and AIC changes"
      ],
      "metadata": {
        "id": "ff7gzyIY9DF-"
      }
    },
    {
      "cell_type": "code",
      "source": [
        "from scipy.stats import chi2\n",
        "\n",
        "aic=pd.DataFrame({\n",
        "    'Model':['OLS','GJR-GARCH(1,1,1)'],\n",
        "    'AIC':[ols_fit.aic,gjr_fit.aic],\n",
        "    '-logL':[ols_fit.llf,gjr_fit.loglikelihood],\n",
        "    'params':[ols_fit.params.shape[0]+1,gjr_fit.params.shape[0]]\n",
        "}).set_index('Model')\n",
        "aic.loc['Change']=aic.diff().iloc[-1]\n",
        "aic.loc['Change','Chi.Sq.']=aic.loc['Change','-logL']*two\n",
        "aic.loc['Change','p Value']=chi2.sf(aic.loc['Change','Chi.Sq.'],aic.loc['Change','params'])\n",
        "display(aic.replace(np.nan,\"\"))"
      ],
      "metadata": {
        "id": "CR9JGP8E9Bp8"
      },
      "execution_count": null,
      "outputs": []
    },
    {
      "cell_type": "markdown",
      "source": [
        "### Assess the Significance of the Spread"
      ],
      "metadata": {
        "id": "fPzg2WohDfam"
      }
    },
    {
      "cell_type": "code",
      "source": [
        "(gjr_fit.params[:-6].max()-gjr_fit.params[:-6].min())/(gjr_fit.std_err[gjr_fit.params[:-6].idxmax()]**two+gjr_fit.std_err[gjr_fit.params[:-6].idxmin()]**two)**half"
      ],
      "metadata": {
        "id": "p4rPW8d7DDiu"
      },
      "execution_count": null,
      "outputs": []
    },
    {
      "cell_type": "code",
      "source": [],
      "metadata": {
        "id": "b3BSDZsMDqWj"
      },
      "execution_count": null,
      "outputs": []
    }
  ]
}